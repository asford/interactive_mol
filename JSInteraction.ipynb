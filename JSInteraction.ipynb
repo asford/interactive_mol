{
 "metadata": {
  "name": ""
 },
 "nbformat": 3,
 "nbformat_minor": 0,
 "worksheets": [
  {
   "cells": [
    {
     "cell_type": "heading",
     "level": 1,
     "metadata": {},
     "source": [
      "IPython Notebook: Javascript/Python Bi-directional Communication"
     ]
    },
    {
     "cell_type": "markdown",
     "metadata": {},
     "source": [
      "*This notebook originally appeared as a post on*\n",
      "[*Pythonic Perambulations*](http://jakevdp.github.io)\n",
      "*by Jake Vanderplas.*"
     ]
    },
    {
     "cell_type": "markdown",
     "metadata": {},
     "source": [
      "<!-- PELICAN_BEGIN_SUMMARY -->\n",
      "I've been working with javascript and the IPython notebook recently, and found myself\n",
      "in need of a way to pass data back and forth between the Javascript runtime and the\n",
      "IPython kernel.  There's a bit of information about this floating around on various\n",
      "mailing lists and forums, but no real organized tutorial on the subject.\n",
      "Partly this is because the tools are relatively specialized,\n",
      "and partly it's because the functionality I'll outline here is planned to\n",
      "be [obsolete](https://github.com/ipython/ipython/wiki/Roadmap:-IPython)\n",
      "in the 2.0 release of IPython.\n",
      "\n",
      "Nevertheless, I thought folks might be interested to hear what I've learned.\n",
      "What follows are a few basic examples of moving data back and forth between\n",
      "the IPython kernel and the browser's javascript. \n",
      "Note that if you're viewing this statically (i.e. on the blog or on nbviewer) then\n",
      "the javascript calls below will not work: to see the code in action, you'll need\n",
      "to [download](http://jakevdp.github.io/downloads/notebooks/JSInteraction.ipynb)\n",
      "the notebook and open it in IPython.\n",
      "<!-- PELICAN_END_SUMMARY -->"
     ]
    },
    {
     "cell_type": "heading",
     "level": 2,
     "metadata": {},
     "source": [
      "Executing Python Statements From Javascript"
     ]
    },
    {
     "cell_type": "markdown",
     "metadata": {},
     "source": [
      "The key functionality needed for interaction between javascript and the\n",
      "IPython kernel is the ``kernel`` object\n",
      "in the IPython Javascript package.\n",
      "A python statement can be executed from javascript as follows:\n",
      "\n",
      "    var kernel = IPython.notebook.kernel;\n",
      "    kernel.execute(command);\n",
      "\n",
      "where ``command`` is a string containing python code.\n",
      "\n",
      "Here is a short example where we use HTML elements and javascript callbacks\n",
      "to execute a statement in the Python kernel from Javascript, using the\n",
      "``kernel.execute`` command:"
     ]
    },
    {
     "cell_type": "code",
     "collapsed": false,
     "input": [
      "from IPython.display import HTML\n",
      "\n",
      "input_form = \"\"\"\n",
      "<div style=\"background-color:gainsboro; border:solid black; width:300px; padding:20px;\">\n",
      "Variable Name: <input type=\"text\" id=\"var_name\" value=\"foo\"><br>\n",
      "Variable Value: <input type=\"text\" id=\"var_value\" value=\"bar\"><br>\n",
      "<button onclick=\"set_value()\">Set Value</button>\n",
      "</div>\n",
      "\"\"\"\n",
      "\n",
      "javascript = \"\"\"\n",
      "<script type=\"text/Javascript\">\n",
      "    function set_value(){\n",
      "        var var_name = document.getElementById('var_name').value;\n",
      "        var var_value = document.getElementById('var_value').value;\n",
      "        var command = var_name + \" = '\" + var_value + \"'\";\n",
      "        console.log(\"Executing Command: \" + command);\n",
      "        \n",
      "        var kernel = IPython.notebook.kernel;\n",
      "        kernel.execute(command);\n",
      "    }\n",
      "</script>\n",
      "\"\"\"\n",
      "\n",
      "HTML(input_form + javascript)"
     ],
     "language": "python",
     "metadata": {},
     "outputs": [
      {
       "html": [
        "\n",
        "<div style=\"background-color:gainsboro; border:solid black; width:300px; padding:20px;\">\n",
        "Variable Name: <input type=\"text\" id=\"var_name\" value=\"foo\"><br>\n",
        "Variable Value: <input type=\"text\" id=\"var_value\" value=\"bar\"><br>\n",
        "<button onclick=\"set_value()\">Set Value</button>\n",
        "</div>\n",
        "\n",
        "<script type=\"text/Javascript\">\n",
        "    function set_value(){\n",
        "        var var_name = document.getElementById('var_name').value;\n",
        "        var var_value = document.getElementById('var_value').value;\n",
        "        var command = var_name + \" = '\" + var_value + \"'\";\n",
        "        console.log(\"Executing Command: \" + command);\n",
        "        \n",
        "        var kernel = IPython.notebook.kernel;\n",
        "        kernel.execute(command);\n",
        "    }\n",
        "</script>\n"
       ],
       "metadata": {},
       "output_type": "pyout",
       "prompt_number": 1,
       "text": [
        "<IPython.core.display.HTML at 0x103c36410>"
       ]
      }
     ],
     "prompt_number": 1
    },
    {
     "cell_type": "markdown",
     "metadata": {},
     "source": [
      "After pressing <button>Set Value</button> above\n",
      "with the default arguments, the value of the variable\n",
      "``foo`` is set in the Python kernel, and can be\n",
      "accessed from Python:"
     ]
    },
    {
     "cell_type": "code",
     "collapsed": false,
     "input": [
      "print foo"
     ],
     "language": "python",
     "metadata": {},
     "outputs": [
      {
       "ename": "NameError",
       "evalue": "name 'foo' is not defined",
       "output_type": "pyerr",
       "traceback": [
        "\u001b[0;31m---------------------------------------------------------------------------\u001b[0m\n\u001b[0;31mNameError\u001b[0m                                 Traceback (most recent call last)",
        "\u001b[0;32m<ipython-input-2-512cd49e65f5>\u001b[0m in \u001b[0;36m<module>\u001b[0;34m()\u001b[0m\n\u001b[0;32m----> 1\u001b[0;31m \u001b[0;32mprint\u001b[0m \u001b[0mfoo\u001b[0m\u001b[0;34m\u001b[0m\u001b[0m\n\u001b[0m",
        "\u001b[0;31mNameError\u001b[0m: name 'foo' is not defined"
       ]
      }
     ],
     "prompt_number": 2
    },
    {
     "cell_type": "markdown",
     "metadata": {},
     "source": [
      "Examining the code, we see that\n",
      "when the button is clicked, the ``set_value()`` function is called, which\n",
      "constructs a simple Python statement\n",
      "assigning ``var_value`` to the variable given by ``var_name``.  As mentioned\n",
      "above, the key to interaction between Javascript and the notebook kernel is to use\n",
      "the ``IPython.notebook.kernel.execute()`` command, passing valid Python\n",
      "code in a string.  We also log the result to the javascript console, which\n",
      "can be helpful for Javascript debugging."
     ]
    },
    {
     "cell_type": "heading",
     "level": 2,
     "metadata": {},
     "source": [
      "Accessing Python Output In Javascript"
     ]
    },
    {
     "cell_type": "markdown",
     "metadata": {},
     "source": [
      "Executing Python statements from Javascript is one thing, but we'd\n",
      "really like to be able to do something with the output.\n",
      "\n",
      "In order to process the output of a Python statement executed in the kernel,\n",
      "we need to add a callback function to the ``execute`` statement.\n",
      "The full extent of callbacks is a bit involved, but the first step is\n",
      "to set a callback which does something with the ``output`` attribute.\n",
      "\n",
      "To set an output, we pass a Javascript callback object to the\n",
      "execute call, looking like this:\n",
      "\n",
      "    var kernel = IPython.notebook.kernel;\n",
      "    function callback(out_type, out_data){\n",
      "        // do_something\n",
      "    }\n",
      "    kernel.execute(command, {\"output\": callback});\n",
      "\n",
      "Using this, we can execute a Python command and do something with\n",
      "the result.  The python command can be as simple as a variable name:\n",
      "in this case, the value returned is simply the value of that variable.\n",
      "\n",
      "To demonstrate this, we'll first import ``pi`` and ``sin``\n",
      "from the ``math`` package in Python:"
     ]
    },
    {
     "cell_type": "code",
     "collapsed": false,
     "input": [
      "from math import pi, sin"
     ],
     "language": "python",
     "metadata": {},
     "outputs": [],
     "prompt_number": 3
    },
    {
     "cell_type": "markdown",
     "metadata": {},
     "source": [
      "And then we'll manipulate this value via Javascript:"
     ]
    },
    {
     "cell_type": "code",
     "collapsed": false,
     "input": [
      "# Add an input form similar to what we saw above\n",
      "input_form = \"\"\"\n",
      "<div style=\"background-color:gainsboro; border:solid black; width:600px; padding:20px;\">\n",
      "Code: <input type=\"text\" id=\"code_input\" size=\"50\" height=\"2\" value=\"sin(pi / 2)\"><br>\n",
      "Result: <input type=\"text\" id=\"result_output\" size=\"50\" value=\"1.0\"><br>\n",
      "<button onclick=\"exec_code()\">Execute</button>\n",
      "</div>\n",
      "\"\"\"\n",
      "\n",
      "# here the javascript has a function to execute the code\n",
      "# within the input box, and a callback to handle the output.\n",
      "javascript = \"\"\"\n",
      "<script type=\"text/Javascript\">\n",
      "    function handle_output(out_type, out){\n",
      "        console.log(out_type);\n",
      "        console.log(out);\n",
      "        var res = null;\n",
      "         // if output is a print statement\n",
      "        if(out_type == \"stream\"){\n",
      "            res = out.data;\n",
      "        }\n",
      "        // if output is a python object\n",
      "        else if(out_type === \"pyout\"){\n",
      "            res = out.data[\"text/plain\"];\n",
      "        }\n",
      "        // if output is a python error\n",
      "        else if(out_type == \"pyerr\"){\n",
      "            res = out.ename + \": \" + out.evalue;\n",
      "        }\n",
      "        // if output is something we haven't thought of\n",
      "        else{\n",
      "            res = \"[out type not implemented]\";   \n",
      "        }\n",
      "        document.getElementById(\"result_output\").value = res;\n",
      "    }\n",
      "    \n",
      "    function exec_code(){\n",
      "        var code_input = document.getElementById('code_input').value;\n",
      "        var kernel = IPython.notebook.kernel;\n",
      "        var callbacks = {'output' : handle_output};\n",
      "        document.getElementById(\"result_output\").value = \"\";  // clear output box\n",
      "        var msg_id = kernel.execute(code_input, callbacks, {silent:false});\n",
      "        console.log(\"button pressed\");\n",
      "    }\n",
      "</script>\n",
      "\"\"\"\n",
      "\n",
      "HTML(input_form + javascript)"
     ],
     "language": "python",
     "metadata": {},
     "outputs": [
      {
       "html": [
        "\n",
        "<div style=\"background-color:gainsboro; border:solid black; width:600px; padding:20px;\">\n",
        "Code: <input type=\"text\" id=\"code_input\" size=\"50\" height=\"2\" value=\"sin(pi / 2)\"><br>\n",
        "Result: <input type=\"text\" id=\"result_output\" size=\"50\" value=\"1.0\"><br>\n",
        "<button onclick=\"exec_code()\">Execute</button>\n",
        "</div>\n",
        "\n",
        "<script type=\"text/Javascript\">\n",
        "    function handle_output(out_type, out){\n",
        "        console.log(out_type);\n",
        "        console.log(out);\n",
        "        var res = null;\n",
        "         // if output is a print statement\n",
        "        if(out_type == \"stream\"){\n",
        "            res = out.data;\n",
        "        }\n",
        "        // if output is a python object\n",
        "        else if(out_type === \"pyout\"){\n",
        "            res = out.data[\"text/plain\"];\n",
        "        }\n",
        "        // if output is a python error\n",
        "        else if(out_type == \"pyerr\"){\n",
        "            res = out.ename + \": \" + out.evalue;\n",
        "        }\n",
        "        // if output is something we haven't thought of\n",
        "        else{\n",
        "            res = \"[out type not implemented]\";   \n",
        "        }\n",
        "        document.getElementById(\"result_output\").value = res;\n",
        "    }\n",
        "    \n",
        "    function exec_code(){\n",
        "        var code_input = document.getElementById('code_input').value;\n",
        "        var kernel = IPython.notebook.kernel;\n",
        "        var callbacks = {'output' : handle_output};\n",
        "        document.getElementById(\"result_output\").value = \"\";  // clear output box\n",
        "        var msg_id = kernel.execute(code_input, callbacks, {silent:false});\n",
        "        console.log(\"button pressed\");\n",
        "    }\n",
        "</script>\n"
       ],
       "metadata": {},
       "output_type": "pyout",
       "prompt_number": 4,
       "text": [
        "<IPython.core.display.HTML at 0x104ac7890>"
       ]
      }
     ],
     "prompt_number": 4
    },
    {
     "cell_type": "markdown",
     "metadata": {},
     "source": [
      "Pressing <button>Execute</button> above will call ``kernel.execute``\n",
      "with the contents of the **Code** box, passing a callback which\n",
      "displays the result in the result box.\n",
      "\n",
      "The reason the callback has so many conditionals is because there are several types\n",
      "of outputs we need to handle.  Note that the output handler is given as the ``output``\n",
      "attribute of a Javascript object, and passed to the ``kernel.execute`` function.\n",
      "Again, we use ``console.log`` to allow us to inspect the objects\n",
      "using the Javascript console."
     ]
    },
    {
     "cell_type": "heading",
     "level": 2,
     "metadata": {},
     "source": [
      "Application: An On-the-fly Matplotlib Animation"
     ]
    },
    {
     "cell_type": "markdown",
     "metadata": {},
     "source": [
      "In a [previous post](http://jakevdp.github.io/blog/2013/05/19/a-javascript-viewer-for-matplotlib-animations/)\n",
      "I introduced a javascript viewer for matplotlib animations. This viewer pre-computes all the matplotlib\n",
      "frames, embeds them in the notebook, and offers some tools to view them.\n",
      "\n",
      "Here we'll explore a different strategy: rather than precomputing all the frames before displaying them,\n",
      "we'll use the javascript/python kernel communication and *generate the frames as needed*.\n",
      "\n",
      "Note that if you're viewing this statically (e.g. in nbviewer or on my blog), it will be relatively\n",
      "unexciting: with no IPython kernel available, calls to the kernel will do nothing.\n",
      "To see this in action, please\n",
      "[download](http://jakevdp.github.io/downloads/notebooks/JSInteraction.ipynb) the notebook and open it with a running IPython notebook instance."
     ]
    },
    {
     "cell_type": "code",
     "collapsed": false,
     "input": [
      "%pylab inline"
     ],
     "language": "python",
     "metadata": {},
     "outputs": [
      {
       "ename": "ImportError",
       "evalue": "No module named matplotlib",
       "output_type": "pyerr",
       "traceback": [
        "\u001b[0;31m---------------------------------------------------------------------------\u001b[0m\n\u001b[0;31mImportError\u001b[0m                               Traceback (most recent call last)",
        "\u001b[0;32m<ipython-input-5-550caa57204a>\u001b[0m in \u001b[0;36m<module>\u001b[0;34m()\u001b[0m\n\u001b[0;32m----> 1\u001b[0;31m \u001b[0mget_ipython\u001b[0m\u001b[0;34m(\u001b[0m\u001b[0;34m)\u001b[0m\u001b[0;34m.\u001b[0m\u001b[0mmagic\u001b[0m\u001b[0;34m(\u001b[0m\u001b[0;34mu'pylab inline'\u001b[0m\u001b[0;34m)\u001b[0m\u001b[0;34m\u001b[0m\u001b[0m\n\u001b[0m",
        "\u001b[0;32m/usr/local/Cellar/python/2.7.5/Frameworks/Python.framework/Versions/2.7/lib/python2.7/site-packages/IPython/core/interactiveshell.pyc\u001b[0m in \u001b[0;36mmagic\u001b[0;34m(self, arg_s)\u001b[0m\n\u001b[1;32m   2170\u001b[0m         \u001b[0mmagic_name\u001b[0m\u001b[0;34m,\u001b[0m \u001b[0m_\u001b[0m\u001b[0;34m,\u001b[0m \u001b[0mmagic_arg_s\u001b[0m \u001b[0;34m=\u001b[0m \u001b[0marg_s\u001b[0m\u001b[0;34m.\u001b[0m\u001b[0mpartition\u001b[0m\u001b[0;34m(\u001b[0m\u001b[0;34m' '\u001b[0m\u001b[0;34m)\u001b[0m\u001b[0;34m\u001b[0m\u001b[0m\n\u001b[1;32m   2171\u001b[0m         \u001b[0mmagic_name\u001b[0m \u001b[0;34m=\u001b[0m \u001b[0mmagic_name\u001b[0m\u001b[0;34m.\u001b[0m\u001b[0mlstrip\u001b[0m\u001b[0;34m(\u001b[0m\u001b[0mprefilter\u001b[0m\u001b[0;34m.\u001b[0m\u001b[0mESC_MAGIC\u001b[0m\u001b[0;34m)\u001b[0m\u001b[0;34m\u001b[0m\u001b[0m\n\u001b[0;32m-> 2172\u001b[0;31m         \u001b[0;32mreturn\u001b[0m \u001b[0mself\u001b[0m\u001b[0;34m.\u001b[0m\u001b[0mrun_line_magic\u001b[0m\u001b[0;34m(\u001b[0m\u001b[0mmagic_name\u001b[0m\u001b[0;34m,\u001b[0m \u001b[0mmagic_arg_s\u001b[0m\u001b[0;34m)\u001b[0m\u001b[0;34m\u001b[0m\u001b[0m\n\u001b[0m\u001b[1;32m   2173\u001b[0m \u001b[0;34m\u001b[0m\u001b[0m\n\u001b[1;32m   2174\u001b[0m     \u001b[0;31m#-------------------------------------------------------------------------\u001b[0m\u001b[0;34m\u001b[0m\u001b[0;34m\u001b[0m\u001b[0m\n",
        "\u001b[0;32m/usr/local/Cellar/python/2.7.5/Frameworks/Python.framework/Versions/2.7/lib/python2.7/site-packages/IPython/core/interactiveshell.pyc\u001b[0m in \u001b[0;36mrun_line_magic\u001b[0;34m(self, magic_name, line)\u001b[0m\n\u001b[1;32m   2091\u001b[0m                 \u001b[0mkwargs\u001b[0m\u001b[0;34m[\u001b[0m\u001b[0;34m'local_ns'\u001b[0m\u001b[0;34m]\u001b[0m \u001b[0;34m=\u001b[0m \u001b[0msys\u001b[0m\u001b[0;34m.\u001b[0m\u001b[0m_getframe\u001b[0m\u001b[0;34m(\u001b[0m\u001b[0mstack_depth\u001b[0m\u001b[0;34m)\u001b[0m\u001b[0;34m.\u001b[0m\u001b[0mf_locals\u001b[0m\u001b[0;34m\u001b[0m\u001b[0m\n\u001b[1;32m   2092\u001b[0m             \u001b[0;32mwith\u001b[0m \u001b[0mself\u001b[0m\u001b[0;34m.\u001b[0m\u001b[0mbuiltin_trap\u001b[0m\u001b[0;34m:\u001b[0m\u001b[0;34m\u001b[0m\u001b[0m\n\u001b[0;32m-> 2093\u001b[0;31m                 \u001b[0mresult\u001b[0m \u001b[0;34m=\u001b[0m \u001b[0mfn\u001b[0m\u001b[0;34m(\u001b[0m\u001b[0;34m*\u001b[0m\u001b[0margs\u001b[0m\u001b[0;34m,\u001b[0m\u001b[0;34m**\u001b[0m\u001b[0mkwargs\u001b[0m\u001b[0;34m)\u001b[0m\u001b[0;34m\u001b[0m\u001b[0m\n\u001b[0m\u001b[1;32m   2094\u001b[0m             \u001b[0;32mreturn\u001b[0m \u001b[0mresult\u001b[0m\u001b[0;34m\u001b[0m\u001b[0m\n\u001b[1;32m   2095\u001b[0m \u001b[0;34m\u001b[0m\u001b[0m\n",
        "\u001b[0;32m/usr/local/Cellar/python/2.7.5/Frameworks/Python.framework/Versions/2.7/lib/python2.7/site-packages/IPython/core/magics/pylab.pyc\u001b[0m in \u001b[0;36mpylab\u001b[0;34m(self, line)\u001b[0m\n",
        "\u001b[0;32m/usr/local/Cellar/python/2.7.5/Frameworks/Python.framework/Versions/2.7/lib/python2.7/site-packages/IPython/core/magic.pyc\u001b[0m in \u001b[0;36m<lambda>\u001b[0;34m(f, *a, **k)\u001b[0m\n\u001b[1;32m    189\u001b[0m     \u001b[0;31m# but it's overkill for just that one bit of state.\u001b[0m\u001b[0;34m\u001b[0m\u001b[0;34m\u001b[0m\u001b[0m\n\u001b[1;32m    190\u001b[0m     \u001b[0;32mdef\u001b[0m \u001b[0mmagic_deco\u001b[0m\u001b[0;34m(\u001b[0m\u001b[0marg\u001b[0m\u001b[0;34m)\u001b[0m\u001b[0;34m:\u001b[0m\u001b[0;34m\u001b[0m\u001b[0m\n\u001b[0;32m--> 191\u001b[0;31m         \u001b[0mcall\u001b[0m \u001b[0;34m=\u001b[0m \u001b[0;32mlambda\u001b[0m \u001b[0mf\u001b[0m\u001b[0;34m,\u001b[0m \u001b[0;34m*\u001b[0m\u001b[0ma\u001b[0m\u001b[0;34m,\u001b[0m \u001b[0;34m**\u001b[0m\u001b[0mk\u001b[0m\u001b[0;34m:\u001b[0m \u001b[0mf\u001b[0m\u001b[0;34m(\u001b[0m\u001b[0;34m*\u001b[0m\u001b[0ma\u001b[0m\u001b[0;34m,\u001b[0m \u001b[0;34m**\u001b[0m\u001b[0mk\u001b[0m\u001b[0;34m)\u001b[0m\u001b[0;34m\u001b[0m\u001b[0m\n\u001b[0m\u001b[1;32m    192\u001b[0m \u001b[0;34m\u001b[0m\u001b[0m\n\u001b[1;32m    193\u001b[0m         \u001b[0;32mif\u001b[0m \u001b[0mcallable\u001b[0m\u001b[0;34m(\u001b[0m\u001b[0marg\u001b[0m\u001b[0;34m)\u001b[0m\u001b[0;34m:\u001b[0m\u001b[0;34m\u001b[0m\u001b[0m\n",
        "\u001b[0;32m/usr/local/Cellar/python/2.7.5/Frameworks/Python.framework/Versions/2.7/lib/python2.7/site-packages/IPython/core/magics/pylab.pyc\u001b[0m in \u001b[0;36mpylab\u001b[0;34m(self, line)\u001b[0m\n\u001b[1;32m    129\u001b[0m             \u001b[0mimport_all\u001b[0m \u001b[0;34m=\u001b[0m \u001b[0;32mnot\u001b[0m \u001b[0margs\u001b[0m\u001b[0;34m.\u001b[0m\u001b[0mno_import_all\u001b[0m\u001b[0;34m\u001b[0m\u001b[0m\n\u001b[1;32m    130\u001b[0m \u001b[0;34m\u001b[0m\u001b[0m\n\u001b[0;32m--> 131\u001b[0;31m         \u001b[0mgui\u001b[0m\u001b[0;34m,\u001b[0m \u001b[0mbackend\u001b[0m\u001b[0;34m,\u001b[0m \u001b[0mclobbered\u001b[0m \u001b[0;34m=\u001b[0m \u001b[0mself\u001b[0m\u001b[0;34m.\u001b[0m\u001b[0mshell\u001b[0m\u001b[0;34m.\u001b[0m\u001b[0menable_pylab\u001b[0m\u001b[0;34m(\u001b[0m\u001b[0margs\u001b[0m\u001b[0;34m.\u001b[0m\u001b[0mgui\u001b[0m\u001b[0;34m,\u001b[0m \u001b[0mimport_all\u001b[0m\u001b[0;34m=\u001b[0m\u001b[0mimport_all\u001b[0m\u001b[0;34m)\u001b[0m\u001b[0;34m\u001b[0m\u001b[0m\n\u001b[0m\u001b[1;32m    132\u001b[0m         \u001b[0mself\u001b[0m\u001b[0;34m.\u001b[0m\u001b[0m_show_matplotlib_backend\u001b[0m\u001b[0;34m(\u001b[0m\u001b[0margs\u001b[0m\u001b[0;34m.\u001b[0m\u001b[0mgui\u001b[0m\u001b[0;34m,\u001b[0m \u001b[0mbackend\u001b[0m\u001b[0;34m)\u001b[0m\u001b[0;34m\u001b[0m\u001b[0m\n\u001b[1;32m    133\u001b[0m         \u001b[0;32mprint\u001b[0m \u001b[0;34m(\u001b[0m\u001b[0;34m\"Populating the interactive namespace from numpy and matplotlib\"\u001b[0m\u001b[0;34m)\u001b[0m\u001b[0;34m\u001b[0m\u001b[0m\n",
        "\u001b[0;32m/usr/local/Cellar/python/2.7.5/Frameworks/Python.framework/Versions/2.7/lib/python2.7/site-packages/IPython/core/interactiveshell.pyc\u001b[0m in \u001b[0;36menable_pylab\u001b[0;34m(self, gui, import_all, welcome_message)\u001b[0m\n\u001b[1;32m   2924\u001b[0m         \u001b[0;32mfrom\u001b[0m \u001b[0mIPython\u001b[0m\u001b[0;34m.\u001b[0m\u001b[0mcore\u001b[0m\u001b[0;34m.\u001b[0m\u001b[0mpylabtools\u001b[0m \u001b[0;32mimport\u001b[0m \u001b[0mimport_pylab\u001b[0m\u001b[0;34m\u001b[0m\u001b[0m\n\u001b[1;32m   2925\u001b[0m \u001b[0;34m\u001b[0m\u001b[0m\n\u001b[0;32m-> 2926\u001b[0;31m         \u001b[0mgui\u001b[0m\u001b[0;34m,\u001b[0m \u001b[0mbackend\u001b[0m \u001b[0;34m=\u001b[0m \u001b[0mself\u001b[0m\u001b[0;34m.\u001b[0m\u001b[0menable_matplotlib\u001b[0m\u001b[0;34m(\u001b[0m\u001b[0mgui\u001b[0m\u001b[0;34m)\u001b[0m\u001b[0;34m\u001b[0m\u001b[0m\n\u001b[0m\u001b[1;32m   2927\u001b[0m \u001b[0;34m\u001b[0m\u001b[0m\n\u001b[1;32m   2928\u001b[0m         \u001b[0;31m# We want to prevent the loading of pylab to pollute the user's\u001b[0m\u001b[0;34m\u001b[0m\u001b[0;34m\u001b[0m\u001b[0m\n",
        "\u001b[0;32m/usr/local/Cellar/python/2.7.5/Frameworks/Python.framework/Versions/2.7/lib/python2.7/site-packages/IPython/core/interactiveshell.pyc\u001b[0m in \u001b[0;36menable_matplotlib\u001b[0;34m(self, gui)\u001b[0m\n\u001b[1;32m   2873\u001b[0m         \"\"\"\n\u001b[1;32m   2874\u001b[0m         \u001b[0;32mfrom\u001b[0m \u001b[0mIPython\u001b[0m\u001b[0;34m.\u001b[0m\u001b[0mcore\u001b[0m \u001b[0;32mimport\u001b[0m \u001b[0mpylabtools\u001b[0m \u001b[0;32mas\u001b[0m \u001b[0mpt\u001b[0m\u001b[0;34m\u001b[0m\u001b[0m\n\u001b[0;32m-> 2875\u001b[0;31m         \u001b[0mgui\u001b[0m\u001b[0;34m,\u001b[0m \u001b[0mbackend\u001b[0m \u001b[0;34m=\u001b[0m \u001b[0mpt\u001b[0m\u001b[0;34m.\u001b[0m\u001b[0mfind_gui_and_backend\u001b[0m\u001b[0;34m(\u001b[0m\u001b[0mgui\u001b[0m\u001b[0;34m,\u001b[0m \u001b[0mself\u001b[0m\u001b[0;34m.\u001b[0m\u001b[0mpylab_gui_select\u001b[0m\u001b[0;34m)\u001b[0m\u001b[0;34m\u001b[0m\u001b[0m\n\u001b[0m\u001b[1;32m   2876\u001b[0m \u001b[0;34m\u001b[0m\u001b[0m\n\u001b[1;32m   2877\u001b[0m         \u001b[0;32mif\u001b[0m \u001b[0mgui\u001b[0m \u001b[0;34m!=\u001b[0m \u001b[0;34m'inline'\u001b[0m\u001b[0;34m:\u001b[0m\u001b[0;34m\u001b[0m\u001b[0m\n",
        "\u001b[0;32m/usr/local/Cellar/python/2.7.5/Frameworks/Python.framework/Versions/2.7/lib/python2.7/site-packages/IPython/core/pylabtools.pyc\u001b[0m in \u001b[0;36mfind_gui_and_backend\u001b[0;34m(gui, gui_select)\u001b[0m\n\u001b[1;32m    209\u001b[0m     \"\"\"\n\u001b[1;32m    210\u001b[0m \u001b[0;34m\u001b[0m\u001b[0m\n\u001b[0;32m--> 211\u001b[0;31m     \u001b[0;32mimport\u001b[0m \u001b[0mmatplotlib\u001b[0m\u001b[0;34m\u001b[0m\u001b[0m\n\u001b[0m\u001b[1;32m    212\u001b[0m \u001b[0;34m\u001b[0m\u001b[0m\n\u001b[1;32m    213\u001b[0m     \u001b[0;32mif\u001b[0m \u001b[0mgui\u001b[0m \u001b[0;32mand\u001b[0m \u001b[0mgui\u001b[0m \u001b[0;34m!=\u001b[0m \u001b[0;34m'auto'\u001b[0m\u001b[0;34m:\u001b[0m\u001b[0;34m\u001b[0m\u001b[0m\n",
        "\u001b[0;31mImportError\u001b[0m: No module named matplotlib"
       ]
      }
     ],
     "prompt_number": 5
    },
    {
     "cell_type": "code",
     "collapsed": false,
     "input": [
      "from IPython.display import HTML\n",
      "from cStringIO import StringIO\n",
      "\n",
      "# We'll use HTML to create a control panel with an\n",
      "# empty image and a number of navigation buttons.\n",
      "\n",
      "disp_html = \"\"\"\n",
      "<div class=\"animation\" align=\"center\">\n",
      "<img id=\"anim_frame\" src=\"\"><br>\n",
      "<button onclick=\"prevFrame()\">Prev Frame</button>\n",
      "<button onclick=\"reverse()\">Reverse</button>\n",
      "<button onclick=\"pause()\">Pause</button>\n",
      "<button onclick=\"play()\">Play</button>\n",
      "<button onclick=\"nextFrame()\">Next Frame</button>\n",
      "</div>\n",
      "\"\"\"\n",
      "\n",
      "# now the javascript to drive it.  The nextFrame() and prevFrame()\n",
      "# functions will call the kernel and pull-down the frame which\n",
      "# is generated.  The play() and reverse() functions use timeouts\n",
      "# to repeatedly call nextFrame() and prevFrame().\n",
      "\n",
      "javascript = \"\"\"\n",
      "<script type=\"text/Javascript\">\n",
      "var count = -1;  // keep track of frame number\n",
      "var animating = 0;  // keep track of animation direction\n",
      "var timer = null;\n",
      "var kernel = IPython.notebook.kernel;\n",
      "\n",
      "function output(out_type, out){\n",
      "    data = out.data[\"text/plain\"];\n",
      "    document.getElementById(\"anim_frame\").src = data.substring(1, data.length - 1);\n",
      "    \n",
      "    if(animating > 0){\n",
      "        timer = setTimeout(nextFrame, 0);\n",
      "    }\n",
      "    else if(animating < 0){\n",
      "        timer = setTimeout(prevFrame, 0);\n",
      "    }\n",
      "}\n",
      "\n",
      "var callbacks = {'output' : output};\n",
      "\n",
      "function pause(){\n",
      "    animating = 0;\n",
      "    if(timer){\n",
      "        clearInterval(timer);\n",
      "        timer = null;\n",
      "    }\n",
      "}\n",
      "\n",
      "function play(){\n",
      "    pause();\n",
      "    animating = +1;\n",
      "    nextFrame();\n",
      "}\n",
      "\n",
      "function reverse(){\n",
      "    pause();\n",
      "    animating = -1;\n",
      "    prevFrame();\n",
      "}\n",
      "\n",
      "function nextFrame(){\n",
      "    count += 1;\n",
      "    var msg_id = kernel.execute(\"disp._get_frame_data(\" + count + \")\", callbacks, {silent:false});\n",
      "}\n",
      "\n",
      "function prevFrame(){\n",
      "    count -= 1;\n",
      "    var msg_id = kernel.execute(\"disp._get_frame_data(\" + count + \")\", callbacks, {silent:false});\n",
      "}\n",
      "\n",
      "// display the first frame\n",
      "setTimeout(nextFrame, 0);\n",
      "\n",
      "</script>\n",
      "\"\"\"\n",
      "\n",
      "# Here we create a class whose HTML representation is the above\n",
      "# HTML and javascript.  Note that we've hard-coded the global\n",
      "# variable name `disp` in the Javascript, so you'll have to assign\n",
      "# the resulting object to this name in order to view it.\n",
      "\n",
      "class DisplayAnimation(object):\n",
      "    def __init__(self, anim):\n",
      "        self.anim = anim\n",
      "        self.fig = anim._fig\n",
      "        plt.close(self.fig)\n",
      "        \n",
      "    def _get_frame_data(self, i):\n",
      "        anim._draw_frame(i)\n",
      "        buffer = StringIO()\n",
      "        fig.savefig(buffer, format='png')\n",
      "        buffer.reset()\n",
      "        data = buffer.read().encode('base64')\n",
      "        return \"data:image/png;base64,{0}\".format(data.replace('\\n', ''))\n",
      "    \n",
      "    def _repr_html_(self):\n",
      "        return disp_html + javascript"
     ],
     "language": "python",
     "metadata": {},
     "outputs": [],
     "prompt_number": 6
    },
    {
     "cell_type": "markdown",
     "metadata": {},
     "source": [
      "This code should be considered a proof-of-concept: in particular, it\n",
      "requires the display object to be named ``disp`` in the global namespace.\n",
      "But making it more robust would be a relatively simple process.\n",
      "\n",
      "Here we'll test the result by creating a simple animation and displaying it dynamically:"
     ]
    },
    {
     "cell_type": "code",
     "collapsed": false,
     "input": [
      "from matplotlib import animation\n",
      "\n",
      "fig = plt.figure()\n",
      "ax = plt.axes(xlim=(0, 10), ylim=(-2, 2))\n",
      "line, = ax.plot([], [], lw=2)\n",
      "\n",
      "def init():\n",
      "    line.set_data([], [])\n",
      "    return line,\n",
      "\n",
      "def animate(i):\n",
      "    x = np.linspace(0, 10, 1000)\n",
      "    y = np.cos(i * 0.02 * np.pi) * np.sin(x - i * 0.02 * np.pi)\n",
      "    line.set_data(x, y)\n",
      "    return line,\n",
      "\n",
      "anim = animation.FuncAnimation(fig, animate, init_func=init,\n",
      "                               frames=100, interval=30)\n",
      "\n",
      "# For now, we need to name this `disp` for it to work\n",
      "disp = DisplayAnimation(anim)\n",
      "disp"
     ],
     "language": "python",
     "metadata": {},
     "outputs": [
      {
       "ename": "ImportError",
       "evalue": "No module named matplotlib",
       "output_type": "pyerr",
       "traceback": [
        "\u001b[0;31m---------------------------------------------------------------------------\u001b[0m\n\u001b[0;31mImportError\u001b[0m                               Traceback (most recent call last)",
        "\u001b[0;32m<ipython-input-7-60ba7910ba8c>\u001b[0m in \u001b[0;36m<module>\u001b[0;34m()\u001b[0m\n\u001b[0;32m----> 1\u001b[0;31m \u001b[0;32mfrom\u001b[0m \u001b[0mmatplotlib\u001b[0m \u001b[0;32mimport\u001b[0m \u001b[0manimation\u001b[0m\u001b[0;34m\u001b[0m\u001b[0m\n\u001b[0m\u001b[1;32m      2\u001b[0m \u001b[0;34m\u001b[0m\u001b[0m\n\u001b[1;32m      3\u001b[0m \u001b[0mfig\u001b[0m \u001b[0;34m=\u001b[0m \u001b[0mplt\u001b[0m\u001b[0;34m.\u001b[0m\u001b[0mfigure\u001b[0m\u001b[0;34m(\u001b[0m\u001b[0;34m)\u001b[0m\u001b[0;34m\u001b[0m\u001b[0m\n\u001b[1;32m      4\u001b[0m \u001b[0max\u001b[0m \u001b[0;34m=\u001b[0m \u001b[0mplt\u001b[0m\u001b[0;34m.\u001b[0m\u001b[0maxes\u001b[0m\u001b[0;34m(\u001b[0m\u001b[0mxlim\u001b[0m\u001b[0;34m=\u001b[0m\u001b[0;34m(\u001b[0m\u001b[0;36m0\u001b[0m\u001b[0;34m,\u001b[0m \u001b[0;36m10\u001b[0m\u001b[0;34m)\u001b[0m\u001b[0;34m,\u001b[0m \u001b[0mylim\u001b[0m\u001b[0;34m=\u001b[0m\u001b[0;34m(\u001b[0m\u001b[0;34m-\u001b[0m\u001b[0;36m2\u001b[0m\u001b[0;34m,\u001b[0m \u001b[0;36m2\u001b[0m\u001b[0;34m)\u001b[0m\u001b[0;34m)\u001b[0m\u001b[0;34m\u001b[0m\u001b[0m\n\u001b[1;32m      5\u001b[0m \u001b[0mline\u001b[0m\u001b[0;34m,\u001b[0m \u001b[0;34m=\u001b[0m \u001b[0max\u001b[0m\u001b[0;34m.\u001b[0m\u001b[0mplot\u001b[0m\u001b[0;34m(\u001b[0m\u001b[0;34m[\u001b[0m\u001b[0;34m]\u001b[0m\u001b[0;34m,\u001b[0m \u001b[0;34m[\u001b[0m\u001b[0;34m]\u001b[0m\u001b[0;34m,\u001b[0m \u001b[0mlw\u001b[0m\u001b[0;34m=\u001b[0m\u001b[0;36m2\u001b[0m\u001b[0;34m)\u001b[0m\u001b[0;34m\u001b[0m\u001b[0m\n",
        "\u001b[0;31mImportError\u001b[0m: No module named matplotlib"
       ]
      }
     ],
     "prompt_number": 7
    },
    {
     "cell_type": "markdown",
     "metadata": {},
     "source": [
      "Once again, if you're viewing this statically, you'll see nothing above\n",
      "the buttons.  The kernel needs to be running in order to see this: you can\n",
      "[download the notebook](http://jakevdp.github.io/downloads/notebooks/JSInteraction.ipynb) and run it to see the results (To see a\n",
      "statically-viewable version of the animation, refer to the\n",
      "[previous post](http://jakevdp.github.io/blog/2013/05/19/a-javascript-viewer-for-matplotlib-animations/)).\n",
      "But I assure you,\n",
      "it works!  We've created an animation viewer which uses bi-directional\n",
      "communication between javascript and matplotlib to generate the frames in\n",
      "real-time.\n",
      "\n",
      "Note that this is still rather limited, and should be considered a proof-of-concept\n",
      "more than a finished result.  In particular, on my four-year-old linux box, I\n",
      "can only achieve a frame-rate of about 10 frames/sec.\n",
      "Part of this is due to the reliance on png images saved within matplotlib,\n",
      "as we can see by profiling the function:"
     ]
    },
    {
     "cell_type": "code",
     "collapsed": false,
     "input": [
      "def save_to_mem(fig):\n",
      "    buffer = StringIO()\n",
      "    fig.savefig(buffer, format='png')\n",
      "    buffer.reset()\n",
      "    data = buffer.read().encode('base64')\n",
      "    return \"data:image/png;base64,{0}\".format(data.replace('\\n', ''))\n",
      "\n",
      "fig, ax = plt.subplots()\n",
      "ax.plot(rand(200))"
     ],
     "language": "python",
     "metadata": {},
     "outputs": [
      {
       "ename": "NameError",
       "evalue": "name 'plt' is not defined",
       "output_type": "pyerr",
       "traceback": [
        "\u001b[0;31m---------------------------------------------------------------------------\u001b[0m\n\u001b[0;31mNameError\u001b[0m                                 Traceback (most recent call last)",
        "\u001b[0;32m<ipython-input-8-de3a64c72930>\u001b[0m in \u001b[0;36m<module>\u001b[0;34m()\u001b[0m\n\u001b[1;32m      6\u001b[0m     \u001b[0;32mreturn\u001b[0m \u001b[0;34m\"data:image/png;base64,{0}\"\u001b[0m\u001b[0;34m.\u001b[0m\u001b[0mformat\u001b[0m\u001b[0;34m(\u001b[0m\u001b[0mdata\u001b[0m\u001b[0;34m.\u001b[0m\u001b[0mreplace\u001b[0m\u001b[0;34m(\u001b[0m\u001b[0;34m'\\n'\u001b[0m\u001b[0;34m,\u001b[0m \u001b[0;34m''\u001b[0m\u001b[0;34m)\u001b[0m\u001b[0;34m)\u001b[0m\u001b[0;34m\u001b[0m\u001b[0m\n\u001b[1;32m      7\u001b[0m \u001b[0;34m\u001b[0m\u001b[0m\n\u001b[0;32m----> 8\u001b[0;31m \u001b[0mfig\u001b[0m\u001b[0;34m,\u001b[0m \u001b[0max\u001b[0m \u001b[0;34m=\u001b[0m \u001b[0mplt\u001b[0m\u001b[0;34m.\u001b[0m\u001b[0msubplots\u001b[0m\u001b[0;34m(\u001b[0m\u001b[0;34m)\u001b[0m\u001b[0;34m\u001b[0m\u001b[0m\n\u001b[0m\u001b[1;32m      9\u001b[0m \u001b[0max\u001b[0m\u001b[0;34m.\u001b[0m\u001b[0mplot\u001b[0m\u001b[0;34m(\u001b[0m\u001b[0mrand\u001b[0m\u001b[0;34m(\u001b[0m\u001b[0;36m200\u001b[0m\u001b[0;34m)\u001b[0m\u001b[0;34m)\u001b[0m\u001b[0;34m\u001b[0m\u001b[0m\n",
        "\u001b[0;31mNameError\u001b[0m: name 'plt' is not defined"
       ]
      }
     ],
     "prompt_number": 8
    },
    {
     "cell_type": "code",
     "collapsed": false,
     "input": [
      "%timeit save_to_mem(fig)"
     ],
     "language": "python",
     "metadata": {},
     "outputs": [
      {
       "ename": "NameError",
       "evalue": "global name 'fig' is not defined",
       "output_type": "pyerr",
       "traceback": [
        "\u001b[0;31m---------------------------------------------------------------------------\u001b[0m\n\u001b[0;31mNameError\u001b[0m                                 Traceback (most recent call last)",
        "\u001b[0;32m<ipython-input-9-b710006c38f5>\u001b[0m in \u001b[0;36m<module>\u001b[0;34m()\u001b[0m\n\u001b[0;32m----> 1\u001b[0;31m \u001b[0mget_ipython\u001b[0m\u001b[0;34m(\u001b[0m\u001b[0;34m)\u001b[0m\u001b[0;34m.\u001b[0m\u001b[0mmagic\u001b[0m\u001b[0;34m(\u001b[0m\u001b[0;34mu'timeit save_to_mem(fig)'\u001b[0m\u001b[0;34m)\u001b[0m\u001b[0;34m\u001b[0m\u001b[0m\n\u001b[0m",
        "\u001b[0;32m/usr/local/Cellar/python/2.7.5/Frameworks/Python.framework/Versions/2.7/lib/python2.7/site-packages/IPython/core/interactiveshell.pyc\u001b[0m in \u001b[0;36mmagic\u001b[0;34m(self, arg_s)\u001b[0m\n\u001b[1;32m   2170\u001b[0m         \u001b[0mmagic_name\u001b[0m\u001b[0;34m,\u001b[0m \u001b[0m_\u001b[0m\u001b[0;34m,\u001b[0m \u001b[0mmagic_arg_s\u001b[0m \u001b[0;34m=\u001b[0m \u001b[0marg_s\u001b[0m\u001b[0;34m.\u001b[0m\u001b[0mpartition\u001b[0m\u001b[0;34m(\u001b[0m\u001b[0;34m' '\u001b[0m\u001b[0;34m)\u001b[0m\u001b[0;34m\u001b[0m\u001b[0m\n\u001b[1;32m   2171\u001b[0m         \u001b[0mmagic_name\u001b[0m \u001b[0;34m=\u001b[0m \u001b[0mmagic_name\u001b[0m\u001b[0;34m.\u001b[0m\u001b[0mlstrip\u001b[0m\u001b[0;34m(\u001b[0m\u001b[0mprefilter\u001b[0m\u001b[0;34m.\u001b[0m\u001b[0mESC_MAGIC\u001b[0m\u001b[0;34m)\u001b[0m\u001b[0;34m\u001b[0m\u001b[0m\n\u001b[0;32m-> 2172\u001b[0;31m         \u001b[0;32mreturn\u001b[0m \u001b[0mself\u001b[0m\u001b[0;34m.\u001b[0m\u001b[0mrun_line_magic\u001b[0m\u001b[0;34m(\u001b[0m\u001b[0mmagic_name\u001b[0m\u001b[0;34m,\u001b[0m \u001b[0mmagic_arg_s\u001b[0m\u001b[0;34m)\u001b[0m\u001b[0;34m\u001b[0m\u001b[0m\n\u001b[0m\u001b[1;32m   2173\u001b[0m \u001b[0;34m\u001b[0m\u001b[0m\n\u001b[1;32m   2174\u001b[0m     \u001b[0;31m#-------------------------------------------------------------------------\u001b[0m\u001b[0;34m\u001b[0m\u001b[0;34m\u001b[0m\u001b[0m\n",
        "\u001b[0;32m/usr/local/Cellar/python/2.7.5/Frameworks/Python.framework/Versions/2.7/lib/python2.7/site-packages/IPython/core/interactiveshell.pyc\u001b[0m in \u001b[0;36mrun_line_magic\u001b[0;34m(self, magic_name, line)\u001b[0m\n\u001b[1;32m   2091\u001b[0m                 \u001b[0mkwargs\u001b[0m\u001b[0;34m[\u001b[0m\u001b[0;34m'local_ns'\u001b[0m\u001b[0;34m]\u001b[0m \u001b[0;34m=\u001b[0m \u001b[0msys\u001b[0m\u001b[0;34m.\u001b[0m\u001b[0m_getframe\u001b[0m\u001b[0;34m(\u001b[0m\u001b[0mstack_depth\u001b[0m\u001b[0;34m)\u001b[0m\u001b[0;34m.\u001b[0m\u001b[0mf_locals\u001b[0m\u001b[0;34m\u001b[0m\u001b[0m\n\u001b[1;32m   2092\u001b[0m             \u001b[0;32mwith\u001b[0m \u001b[0mself\u001b[0m\u001b[0;34m.\u001b[0m\u001b[0mbuiltin_trap\u001b[0m\u001b[0;34m:\u001b[0m\u001b[0;34m\u001b[0m\u001b[0m\n\u001b[0;32m-> 2093\u001b[0;31m                 \u001b[0mresult\u001b[0m \u001b[0;34m=\u001b[0m \u001b[0mfn\u001b[0m\u001b[0;34m(\u001b[0m\u001b[0;34m*\u001b[0m\u001b[0margs\u001b[0m\u001b[0;34m,\u001b[0m\u001b[0;34m**\u001b[0m\u001b[0mkwargs\u001b[0m\u001b[0;34m)\u001b[0m\u001b[0;34m\u001b[0m\u001b[0m\n\u001b[0m\u001b[1;32m   2094\u001b[0m             \u001b[0;32mreturn\u001b[0m \u001b[0mresult\u001b[0m\u001b[0;34m\u001b[0m\u001b[0m\n\u001b[1;32m   2095\u001b[0m \u001b[0;34m\u001b[0m\u001b[0m\n",
        "\u001b[0;32m/usr/local/Cellar/python/2.7.5/Frameworks/Python.framework/Versions/2.7/lib/python2.7/site-packages/IPython/core/magics/execution.pyc\u001b[0m in \u001b[0;36mtimeit\u001b[0;34m(self, line, cell)\u001b[0m\n",
        "\u001b[0;32m/usr/local/Cellar/python/2.7.5/Frameworks/Python.framework/Versions/2.7/lib/python2.7/site-packages/IPython/core/magic.pyc\u001b[0m in \u001b[0;36m<lambda>\u001b[0;34m(f, *a, **k)\u001b[0m\n\u001b[1;32m    189\u001b[0m     \u001b[0;31m# but it's overkill for just that one bit of state.\u001b[0m\u001b[0;34m\u001b[0m\u001b[0;34m\u001b[0m\u001b[0m\n\u001b[1;32m    190\u001b[0m     \u001b[0;32mdef\u001b[0m \u001b[0mmagic_deco\u001b[0m\u001b[0;34m(\u001b[0m\u001b[0marg\u001b[0m\u001b[0;34m)\u001b[0m\u001b[0;34m:\u001b[0m\u001b[0;34m\u001b[0m\u001b[0m\n\u001b[0;32m--> 191\u001b[0;31m         \u001b[0mcall\u001b[0m \u001b[0;34m=\u001b[0m \u001b[0;32mlambda\u001b[0m \u001b[0mf\u001b[0m\u001b[0;34m,\u001b[0m \u001b[0;34m*\u001b[0m\u001b[0ma\u001b[0m\u001b[0;34m,\u001b[0m \u001b[0;34m**\u001b[0m\u001b[0mk\u001b[0m\u001b[0;34m:\u001b[0m \u001b[0mf\u001b[0m\u001b[0;34m(\u001b[0m\u001b[0;34m*\u001b[0m\u001b[0ma\u001b[0m\u001b[0;34m,\u001b[0m \u001b[0;34m**\u001b[0m\u001b[0mk\u001b[0m\u001b[0;34m)\u001b[0m\u001b[0;34m\u001b[0m\u001b[0m\n\u001b[0m\u001b[1;32m    192\u001b[0m \u001b[0;34m\u001b[0m\u001b[0m\n\u001b[1;32m    193\u001b[0m         \u001b[0;32mif\u001b[0m \u001b[0mcallable\u001b[0m\u001b[0;34m(\u001b[0m\u001b[0marg\u001b[0m\u001b[0;34m)\u001b[0m\u001b[0;34m:\u001b[0m\u001b[0;34m\u001b[0m\u001b[0m\n",
        "\u001b[0;32m/usr/local/Cellar/python/2.7.5/Frameworks/Python.framework/Versions/2.7/lib/python2.7/site-packages/IPython/core/magics/execution.pyc\u001b[0m in \u001b[0;36mtimeit\u001b[0;34m(self, line, cell)\u001b[0m\n\u001b[1;32m    929\u001b[0m             \u001b[0mnumber\u001b[0m \u001b[0;34m=\u001b[0m \u001b[0;36m1\u001b[0m\u001b[0;34m\u001b[0m\u001b[0m\n\u001b[1;32m    930\u001b[0m             \u001b[0;32mfor\u001b[0m \u001b[0mi\u001b[0m \u001b[0;32min\u001b[0m \u001b[0mrange\u001b[0m\u001b[0;34m(\u001b[0m\u001b[0;36m1\u001b[0m\u001b[0;34m,\u001b[0m \u001b[0;36m10\u001b[0m\u001b[0;34m)\u001b[0m\u001b[0;34m:\u001b[0m\u001b[0;34m\u001b[0m\u001b[0m\n\u001b[0;32m--> 931\u001b[0;31m                 \u001b[0;32mif\u001b[0m \u001b[0mtimer\u001b[0m\u001b[0;34m.\u001b[0m\u001b[0mtimeit\u001b[0m\u001b[0;34m(\u001b[0m\u001b[0mnumber\u001b[0m\u001b[0;34m)\u001b[0m \u001b[0;34m>=\u001b[0m \u001b[0;36m0.2\u001b[0m\u001b[0;34m:\u001b[0m\u001b[0;34m\u001b[0m\u001b[0m\n\u001b[0m\u001b[1;32m    932\u001b[0m                     \u001b[0;32mbreak\u001b[0m\u001b[0;34m\u001b[0m\u001b[0m\n\u001b[1;32m    933\u001b[0m                 \u001b[0mnumber\u001b[0m \u001b[0;34m*=\u001b[0m \u001b[0;36m10\u001b[0m\u001b[0;34m\u001b[0m\u001b[0m\n",
        "\u001b[0;32m/usr/local/Cellar/python/2.7.5/Frameworks/Python.framework/Versions/2.7/lib/python2.7/timeit.pyc\u001b[0m in \u001b[0;36mtimeit\u001b[0;34m(self, number)\u001b[0m\n\u001b[1;32m    193\u001b[0m         \u001b[0mgc\u001b[0m\u001b[0;34m.\u001b[0m\u001b[0mdisable\u001b[0m\u001b[0;34m(\u001b[0m\u001b[0;34m)\u001b[0m\u001b[0;34m\u001b[0m\u001b[0m\n\u001b[1;32m    194\u001b[0m         \u001b[0;32mtry\u001b[0m\u001b[0;34m:\u001b[0m\u001b[0;34m\u001b[0m\u001b[0m\n\u001b[0;32m--> 195\u001b[0;31m             \u001b[0mtiming\u001b[0m \u001b[0;34m=\u001b[0m \u001b[0mself\u001b[0m\u001b[0;34m.\u001b[0m\u001b[0minner\u001b[0m\u001b[0;34m(\u001b[0m\u001b[0mit\u001b[0m\u001b[0;34m,\u001b[0m \u001b[0mself\u001b[0m\u001b[0;34m.\u001b[0m\u001b[0mtimer\u001b[0m\u001b[0;34m)\u001b[0m\u001b[0;34m\u001b[0m\u001b[0m\n\u001b[0m\u001b[1;32m    196\u001b[0m         \u001b[0;32mfinally\u001b[0m\u001b[0;34m:\u001b[0m\u001b[0;34m\u001b[0m\u001b[0m\n\u001b[1;32m    197\u001b[0m             \u001b[0;32mif\u001b[0m \u001b[0mgcold\u001b[0m\u001b[0;34m:\u001b[0m\u001b[0;34m\u001b[0m\u001b[0m\n",
        "\u001b[0;32m<magic-timeit>\u001b[0m in \u001b[0;36minner\u001b[0;34m(_it, _timer)\u001b[0m\n",
        "\u001b[0;31mNameError\u001b[0m: global name 'fig' is not defined"
       ]
      }
     ],
     "prompt_number": 9
    },
    {
     "cell_type": "markdown",
     "metadata": {},
     "source": [
      "That's a cap of about 20 frames per second on matplotlib's end, not including\n",
      "the time required to serialize and send the data,\n",
      "or to render each frame on the page.\n",
      "I'm certain there are much better ways to do this particular application,\n",
      "but they would take a bit more thought."
     ]
    },
    {
     "cell_type": "markdown",
     "metadata": {},
     "source": [
      "I hope this post was helpful to you, as unpolished as the results are, and\n",
      "please let me know if you have ideas about how to do this more effectively!\n",
      "Also, keep in mind that Javascript support should be improving immensely in\n",
      "IPython 2.0, which (according to the [roadmap](https://github.com/ipython/ipython/wiki/Roadmap:-IPython))\n",
      "should be released in December of 2013.  At that point I may have more to say\n",
      "on the subject!"
     ]
    },
    {
     "cell_type": "markdown",
     "metadata": {},
     "source": [
      "*This post was composed entirely in IPython notebook.*\n",
      "*The source notebook can be downloaded*\n",
      "[here](http://jakevdp.github.io/downloads/notebooks/JSInteraction.ipynb)"
     ]
    }
   ],
   "metadata": {}
  }
 ]
}